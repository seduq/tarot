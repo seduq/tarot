{
 "cells": [
  {
   "cell_type": "code",
   "execution_count": null,
   "id": "9987b3f4",
   "metadata": {},
   "outputs": [],
   "source": [
    "from main import random_game\n",
    "import numpy as np\n",
    "import pyspiel\n",
    "\n",
    "for _ in range(100):\n",
    "    # Run a random game with the default strategy\n",
    "    win, legal_actions_count, chance_outcomes_count, game_length = random_game(verbose=False)\n",
    "    print(f\"Game Length: {game_length}, Legal Actions Count: {legal_actions_count}, Chance Outcomes Count: {chance_outcomes_count} Win: {win}\")"
   ]
  }
 ],
 "metadata": {
  "kernelspec": {
   "display_name": "tarot",
   "language": "python",
   "name": "python3"
  },
  "language_info": {
   "codemirror_mode": {
    "name": "ipython",
    "version": 3
   },
   "file_extension": ".py",
   "mimetype": "text/x-python",
   "name": "python",
   "nbconvert_exporter": "python",
   "pygments_lexer": "ipython3",
   "version": "3.12.3"
  }
 },
 "nbformat": 4,
 "nbformat_minor": 5
}
