{
 "cells": [
  {
   "cell_type": "code",
   "execution_count": null,
   "id": "9987b3f4",
   "metadata": {},
   "outputs": [],
   "source": [
    "from main import random_game\n",
    "import numpy as np\n",
    "import pyspiel\n",
    "\n",
    "random_game()"
   ]
  }
 ],
 "metadata": {
  "kernelspec": {
   "display_name": "tarot",
   "language": "python",
   "name": "python3"
  },
  "language_info": {
   "codemirror_mode": {
    "name": "ipython",
    "version": 3
   },
   "file_extension": ".py",
   "mimetype": "text/x-python",
   "name": "python",
   "nbconvert_exporter": "python",
   "pygments_lexer": "ipython3",
   "version": "3.12.3"
  }
 },
 "nbformat": 4,
 "nbformat_minor": 5
}
